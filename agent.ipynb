{
 "cells": [
  {
   "cell_type": "code",
   "execution_count": 5,
   "id": "d39c2a3c-4a31-459c-afb2-48852a4047bf",
   "metadata": {},
   "outputs": [
    {
     "name": "stdout",
     "output_type": "stream",
     "text": [
      "Requirement already satisfied: langgraph in /home/rahul/anaconda3/lib/python3.12/site-packages (0.2.68)\n",
      "Requirement already satisfied: langsmith in /home/rahul/anaconda3/lib/python3.12/site-packages (0.3.2)\n",
      "Requirement already satisfied: langchain_anthropic in /home/rahul/anaconda3/lib/python3.12/site-packages (0.3.4)\n",
      "Requirement already satisfied: langchain in /home/rahul/anaconda3/lib/python3.12/site-packages (0.3.16)\n",
      "Requirement already satisfied: langchain-community in /home/rahul/anaconda3/lib/python3.12/site-packages (0.3.16)\n",
      "Requirement already satisfied: langchainhub in /home/rahul/anaconda3/lib/python3.12/site-packages (0.1.21)\n",
      "Requirement already satisfied: langchain-core in /home/rahul/anaconda3/lib/python3.12/site-packages (0.3.32)\n",
      "Collecting langchain-ollama\n",
      "  Downloading langchain_ollama-0.2.2-py3-none-any.whl.metadata (1.9 kB)\n",
      "Requirement already satisfied: langgraph-checkpoint<3.0.0,>=2.0.10 in /home/rahul/anaconda3/lib/python3.12/site-packages (from langgraph) (2.0.10)\n",
      "Requirement already satisfied: langgraph-sdk<0.2.0,>=0.1.42 in /home/rahul/anaconda3/lib/python3.12/site-packages (from langgraph) (0.1.51)\n",
      "Requirement already satisfied: httpx<1,>=0.23.0 in /home/rahul/anaconda3/lib/python3.12/site-packages (from langsmith) (0.28.1)\n",
      "Requirement already satisfied: orjson<4.0.0,>=3.9.14 in /home/rahul/anaconda3/lib/python3.12/site-packages (from langsmith) (3.10.15)\n",
      "Requirement already satisfied: pydantic<3.0.0,>=2.7.4 in /home/rahul/anaconda3/lib/python3.12/site-packages (from langsmith) (2.10.6)\n",
      "Requirement already satisfied: requests<3,>=2 in /home/rahul/anaconda3/lib/python3.12/site-packages (from langsmith) (2.32.2)\n",
      "Requirement already satisfied: requests-toolbelt<2.0.0,>=1.0.0 in /home/rahul/anaconda3/lib/python3.12/site-packages (from langsmith) (1.0.0)\n",
      "Requirement already satisfied: zstandard<0.24.0,>=0.23.0 in /home/rahul/anaconda3/lib/python3.12/site-packages (from langsmith) (0.23.0)\n",
      "Requirement already satisfied: anthropic<1,>=0.41.0 in /home/rahul/anaconda3/lib/python3.12/site-packages (from langchain_anthropic) (0.45.2)\n",
      "Requirement already satisfied: defusedxml<0.8.0,>=0.7.1 in /home/rahul/anaconda3/lib/python3.12/site-packages (from langchain_anthropic) (0.7.1)\n",
      "Requirement already satisfied: PyYAML>=5.3 in /home/rahul/anaconda3/lib/python3.12/site-packages (from langchain) (6.0.1)\n",
      "Requirement already satisfied: SQLAlchemy<3,>=1.4 in /home/rahul/anaconda3/lib/python3.12/site-packages (from langchain) (2.0.30)\n",
      "Requirement already satisfied: aiohttp<4.0.0,>=3.8.3 in /home/rahul/anaconda3/lib/python3.12/site-packages (from langchain) (3.9.5)\n",
      "Requirement already satisfied: langchain-text-splitters<0.4.0,>=0.3.3 in /home/rahul/anaconda3/lib/python3.12/site-packages (from langchain) (0.3.5)\n",
      "Requirement already satisfied: numpy<3,>=1.26.2 in /home/rahul/anaconda3/lib/python3.12/site-packages (from langchain) (1.26.4)\n",
      "Requirement already satisfied: tenacity!=8.4.0,<10,>=8.1.0 in /home/rahul/anaconda3/lib/python3.12/site-packages (from langchain) (8.2.2)\n",
      "Requirement already satisfied: dataclasses-json<0.7,>=0.5.7 in /home/rahul/anaconda3/lib/python3.12/site-packages (from langchain-community) (0.6.7)\n",
      "Requirement already satisfied: httpx-sse<0.5.0,>=0.4.0 in /home/rahul/anaconda3/lib/python3.12/site-packages (from langchain-community) (0.4.0)\n",
      "Requirement already satisfied: pydantic-settings<3.0.0,>=2.4.0 in /home/rahul/anaconda3/lib/python3.12/site-packages (from langchain-community) (2.7.1)\n",
      "Requirement already satisfied: packaging<25,>=23.2 in /home/rahul/anaconda3/lib/python3.12/site-packages (from langchainhub) (23.2)\n",
      "Requirement already satisfied: types-requests<3.0.0.0,>=2.31.0.2 in /home/rahul/anaconda3/lib/python3.12/site-packages (from langchainhub) (2.32.0.20241016)\n",
      "Requirement already satisfied: jsonpatch<2.0,>=1.33 in /home/rahul/anaconda3/lib/python3.12/site-packages (from langchain-core) (1.33)\n",
      "Requirement already satisfied: typing-extensions>=4.7 in /home/rahul/anaconda3/lib/python3.12/site-packages (from langchain-core) (4.12.2)\n",
      "Collecting ollama<1,>=0.4.4 (from langchain-ollama)\n",
      "  Downloading ollama-0.4.7-py3-none-any.whl.metadata (4.7 kB)\n",
      "Requirement already satisfied: aiosignal>=1.1.2 in /home/rahul/anaconda3/lib/python3.12/site-packages (from aiohttp<4.0.0,>=3.8.3->langchain) (1.2.0)\n",
      "Requirement already satisfied: attrs>=17.3.0 in /home/rahul/anaconda3/lib/python3.12/site-packages (from aiohttp<4.0.0,>=3.8.3->langchain) (23.1.0)\n",
      "Requirement already satisfied: frozenlist>=1.1.1 in /home/rahul/anaconda3/lib/python3.12/site-packages (from aiohttp<4.0.0,>=3.8.3->langchain) (1.4.0)\n",
      "Requirement already satisfied: multidict<7.0,>=4.5 in /home/rahul/anaconda3/lib/python3.12/site-packages (from aiohttp<4.0.0,>=3.8.3->langchain) (6.0.4)\n",
      "Requirement already satisfied: yarl<2.0,>=1.0 in /home/rahul/anaconda3/lib/python3.12/site-packages (from aiohttp<4.0.0,>=3.8.3->langchain) (1.9.3)\n",
      "Requirement already satisfied: anyio<5,>=3.5.0 in /home/rahul/anaconda3/lib/python3.12/site-packages (from anthropic<1,>=0.41.0->langchain_anthropic) (4.2.0)\n",
      "Requirement already satisfied: distro<2,>=1.7.0 in /home/rahul/anaconda3/lib/python3.12/site-packages (from anthropic<1,>=0.41.0->langchain_anthropic) (1.9.0)\n",
      "Requirement already satisfied: jiter<1,>=0.4.0 in /home/rahul/anaconda3/lib/python3.12/site-packages (from anthropic<1,>=0.41.0->langchain_anthropic) (0.8.2)\n",
      "Requirement already satisfied: sniffio in /home/rahul/anaconda3/lib/python3.12/site-packages (from anthropic<1,>=0.41.0->langchain_anthropic) (1.3.0)\n",
      "Requirement already satisfied: marshmallow<4.0.0,>=3.18.0 in /home/rahul/anaconda3/lib/python3.12/site-packages (from dataclasses-json<0.7,>=0.5.7->langchain-community) (3.26.0)\n",
      "Requirement already satisfied: typing-inspect<1,>=0.4.0 in /home/rahul/anaconda3/lib/python3.12/site-packages (from dataclasses-json<0.7,>=0.5.7->langchain-community) (0.9.0)\n",
      "Requirement already satisfied: certifi in /home/rahul/anaconda3/lib/python3.12/site-packages (from httpx<1,>=0.23.0->langsmith) (2024.6.2)\n",
      "Requirement already satisfied: httpcore==1.* in /home/rahul/anaconda3/lib/python3.12/site-packages (from httpx<1,>=0.23.0->langsmith) (1.0.7)\n",
      "Requirement already satisfied: idna in /home/rahul/anaconda3/lib/python3.12/site-packages (from httpx<1,>=0.23.0->langsmith) (3.7)\n",
      "Requirement already satisfied: h11<0.15,>=0.13 in /home/rahul/anaconda3/lib/python3.12/site-packages (from httpcore==1.*->httpx<1,>=0.23.0->langsmith) (0.14.0)\n",
      "Requirement already satisfied: jsonpointer>=1.9 in /home/rahul/anaconda3/lib/python3.12/site-packages (from jsonpatch<2.0,>=1.33->langchain-core) (2.1)\n",
      "Requirement already satisfied: msgpack<2.0.0,>=1.1.0 in /home/rahul/anaconda3/lib/python3.12/site-packages (from langgraph-checkpoint<3.0.0,>=2.0.10->langgraph) (1.1.0)\n",
      "Requirement already satisfied: annotated-types>=0.6.0 in /home/rahul/anaconda3/lib/python3.12/site-packages (from pydantic<3.0.0,>=2.7.4->langsmith) (0.6.0)\n",
      "Requirement already satisfied: pydantic-core==2.27.2 in /home/rahul/anaconda3/lib/python3.12/site-packages (from pydantic<3.0.0,>=2.7.4->langsmith) (2.27.2)\n",
      "Requirement already satisfied: python-dotenv>=0.21.0 in /home/rahul/anaconda3/lib/python3.12/site-packages (from pydantic-settings<3.0.0,>=2.4.0->langchain-community) (0.21.0)\n",
      "Requirement already satisfied: charset-normalizer<4,>=2 in /home/rahul/anaconda3/lib/python3.12/site-packages (from requests<3,>=2->langsmith) (2.0.4)\n",
      "Requirement already satisfied: urllib3<3,>=1.21.1 in /home/rahul/anaconda3/lib/python3.12/site-packages (from requests<3,>=2->langsmith) (2.2.2)\n",
      "Requirement already satisfied: greenlet!=0.4.17 in /home/rahul/anaconda3/lib/python3.12/site-packages (from SQLAlchemy<3,>=1.4->langchain) (3.0.1)\n",
      "Requirement already satisfied: mypy-extensions>=0.3.0 in /home/rahul/anaconda3/lib/python3.12/site-packages (from typing-inspect<1,>=0.4.0->dataclasses-json<0.7,>=0.5.7->langchain-community) (1.0.0)\n",
      "Downloading langchain_ollama-0.2.2-py3-none-any.whl (18 kB)\n",
      "Downloading ollama-0.4.7-py3-none-any.whl (13 kB)\n",
      "Installing collected packages: ollama, langchain-ollama\n",
      "Successfully installed langchain-ollama-0.2.2 ollama-0.4.7\n",
      "Note: you may need to restart the kernel to use updated packages.\n"
     ]
    }
   ],
   "source": [
    "%pip install -U langgraph langsmith langchain_anthropic langchain langchain-community langchainhub langchain-core langchain-ollama"
   ]
  },
  {
   "cell_type": "code",
   "execution_count": 4,
   "id": "85e9266e-434d-4e2d-95f9-fbb05f10d32c",
   "metadata": {},
   "outputs": [
    {
     "data": {
      "text/plain": [
       "'Thalapathy Vijay, whose real name is Jessy Venkataraman, is a prominent Indian film actor known for his work in Tamil cinema. He earned the nickname \"Thalapathy,\" which means \"leader\" or \"commander,\" from the late and legendary actor K. Bhagyaraj. Thalapathy Vijay gained widespread recognition for his charismatic performances and strong screen presence.\\n\\nVijay began his acting career with minor roles in films like \"Poovellam Un Vasam\" (2007) and \"Sivakasi\" (2008). His breakthrough came with the film \"Pokkiri\" (2007), which established him as a leading actor. Over the years, he has starred in numerous successful films, often playing action heroes or romantic leads. Some of his most notable films include \"Vikram Vedha,\" \"Mersal,\" \"Maari 2,\" and the \"Kaala\" series.\\n\\nIn addition to acting, Thalapathy Vijay is also known for his philanthropic efforts and activism on social issues. His off-screen persona as a thoughtful and socially conscious individual has contributed significantly to his popularity and respect among fans.'"
      ]
     },
     "execution_count": 4,
     "metadata": {},
     "output_type": "execute_result"
    }
   ],
   "source": [
    "from langchain_ollama.llms import OllamaLLM\n",
    "\n",
    "model = OllamaLLM(model=\"phi4\", base_url=\"http://172.16.100.97:11434\")\n",
    "model.invoke(\"Who is Thalapathy Vijay?\")"
   ]
  },
  {
   "cell_type": "code",
   "execution_count": null,
   "id": "e291f28b-b16e-4b98-aab6-3493df6fab6b",
   "metadata": {},
   "outputs": [],
   "source": []
  }
 ],
 "metadata": {
  "kernelspec": {
   "display_name": "Python 3 (ipykernel)",
   "language": "python",
   "name": "python3"
  },
  "language_info": {
   "codemirror_mode": {
    "name": "ipython",
    "version": 3
   },
   "file_extension": ".py",
   "mimetype": "text/x-python",
   "name": "python",
   "nbconvert_exporter": "python",
   "pygments_lexer": "ipython3",
   "version": "3.11.0rc1"
  }
 },
 "nbformat": 4,
 "nbformat_minor": 5
}
